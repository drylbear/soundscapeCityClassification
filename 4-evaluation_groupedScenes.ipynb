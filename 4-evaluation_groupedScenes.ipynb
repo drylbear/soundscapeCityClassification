{
 "cells": [
  {
   "cell_type": "code",
   "execution_count": 1,
   "metadata": {},
   "outputs": [
    {
     "name": "stderr",
     "output_type": "stream",
     "text": [
      "Using TensorFlow backend.\n"
     ]
    }
   ],
   "source": [
    "from keras.models import  load_model\n",
    "from keras.utils import np_utils\n",
    "import glob\n",
    "import numpy as np\n",
    "import os\n",
    "import sed_eval\n",
    "import dcase_util\n",
    "import pickle\n",
    "#%run shared_functions.ipynb\n",
    "\n",
    "from PIL import Image"
   ]
  },
  {
   "cell_type": "code",
   "execution_count": 2,
   "metadata": {},
   "outputs": [
    {
     "name": "stdout",
     "output_type": "stream",
     "text": [
      "validationfiles:  2518\n",
      "testfiles:  2518\n",
      "data obtained\n"
     ]
    }
   ],
   "source": [
    "\n",
    "def getStackFeatMat(scene):\n",
    "    with open(scene, \"rb\" ) as scenesample:\n",
    "        l,fv = pickle.load(scenesample)\n",
    "    return fv,l\n",
    "\n",
    "def reduceLabels(labels):\n",
    "    r,c=labels.shape \n",
    "    npOfLabels=np.zeros(c)\n",
    "    for j in range(0,c):\n",
    "        if np.sum(labels[:,j])>0:\n",
    "            npOfLabels[j]=1\n",
    "    return npOfLabels\n",
    "\n",
    "\n",
    "def fileLists():\n",
    "    trainlist=[]\n",
    "    validationlist=[]\n",
    "    testlist=[]\n",
    "    evalSetupFiles='..\\\\..\\\\CASAdatasets\\\\DCASE18_ASCT1\\\\TUT-urban-acoustic-scenes-2018-development\\\\evaluation_setup\\\\*.txt'\n",
    "    txtfilelist=glob.glob(evalSetupFiles)\n",
    "    for txt in txtfilelist:\n",
    "        if '_location' not in txt:\n",
    "            continue\n",
    "        if 'train' in txt:\n",
    "            continue\n",
    "        with open(txt,'r') as evaltxtfile:\n",
    "            for line in evaltxtfile.readlines():\n",
    "                line=line.strip().split('\\t')[0]\n",
    "                if 'train' in txt:\n",
    "                    trainlist.append(line.replace('audio','logMelSpec').replace('.wav','_aggScenes.pckl').replace('/','\\\\'))\n",
    "                elif 'test' in txt:\n",
    "                    testlist.append(line.replace('audio','logMelSpec').replace('.wav','_aggScenes.pckl').replace('/','\\\\'))\n",
    "                else:\n",
    "                    validationlist.append(line.replace('audio','logMelSpec').replace('.wav','_aggScenes.pckl').replace('/','\\\\'))\n",
    "    print('validationfiles: ', str(len(validationlist)))\n",
    "    print('testfiles: ', str(len(testlist)))\n",
    "    return validationlist,testlist\n",
    "\n",
    "labelRef={'airport':0,'shopping_mall':1,'metro_station':2,'street_pedestrian':3,'public_square':4,'street_traffic':5,'tram':6,'bus':7,'metro':8,'park':9}\n",
    "labelRef={'inside':0, 'outside':1, 'transport':2}\n",
    "nb_classes=len(labelRef.keys())\n",
    "def getData(flist):\n",
    "    pth='..\\\\..\\\\CASAdatasets\\\\DCASE18_ASCT1\\\\TUT-urban-acoustic-scenes-2018-development\\\\'\n",
    "    X_=np.zeros(((len(flist)),128,431))\n",
    "    Y_=np.zeros(((len(flist)),nb_classes))\n",
    "    for i,tfile in enumerate(flist):\n",
    "        with open(pth+tfile, \"rb\" ) as scenesample:\n",
    "            fv=pickle.load(scenesample)\n",
    "        X_[i,:,:]=fv\n",
    "        location=tfile.split('-')[0].replace('logMelSpec\\\\','')\n",
    "        if location in ['airport','shopping_mall','metro_station']:\n",
    "            location='inside'\n",
    "        elif location in ['street_pedestrian','public_square','street_traffic','park']:\n",
    "            location='outside'\n",
    "        else:\n",
    "            location='transport'\n",
    "        Y_[i,labelRef[location]]=1\n",
    "    return X_, Y_\n",
    "validationlist,testlist=fileLists()\n",
    "X_v, Y_val = getData(validationlist)\n",
    "X_te, Y_test = getData(testlist)\n",
    "print('data obtained')\n",
    "X_val=np.expand_dims(X_v,axis=3)\n",
    "X_test=np.expand_dims(X_te,axis=3)"
   ]
  },
  {
   "cell_type": "code",
   "execution_count": 5,
   "metadata": {},
   "outputs": [],
   "source": [
    "path='models\\\\3groupedScenes.hdf5'\n",
    "model=load_model(path)\n",
    "nb_classes=3\n",
    "evaluation=model.evaluate(X_test, Y_test, verbose=0,batch_size=16)\n"
   ]
  },
  {
   "cell_type": "code",
   "execution_count": 6,
   "metadata": {},
   "outputs": [
    {
     "name": "stdout",
     "output_type": "stream",
     "text": [
      "['loss', 'acc']\n",
      "[0.36594631632318758, 0.8776806989674345]\n"
     ]
    }
   ],
   "source": [
    "print(model.metrics_names)\n",
    "print(evaluation)"
   ]
  },
  {
   "cell_type": "code",
   "execution_count": 7,
   "metadata": {
    "scrolled": true
   },
   "outputs": [
    {
     "name": "stdout",
     "output_type": "stream",
     "text": [
      "(2518, 3)\n",
      "**\n",
      "FIIIINESSSHED :-D\n"
     ]
    }
   ],
   "source": [
    "#evaluate performance of each model\n",
    "path='models\\\\3groupedScenes.hdf5'\n",
    "model=load_model(path)\n",
    "nb_classes=3\n",
    "predictions=np.zeros((Y_test.shape))\n",
    "print(predictions.shape)\n",
    "print('**')\n",
    "predictions=model.predict(X_test, verbose=0, batch_size=16) #\n",
    "#asc(predictions,'test')\n",
    "print(\"FIIIINESSSHED :-D\")"
   ]
  },
  {
   "cell_type": "code",
   "execution_count": 10,
   "metadata": {},
   "outputs": [
    {
     "name": "stdout",
     "output_type": "stream",
     "text": [
      "[[ 636.  109.   58.]\n",
      " [  64.  881.    6.]\n",
      " [  36.   35.  693.]]\n",
      "FIIIINESSSHED :-D\n"
     ]
    },
    {
     "data": {
      "image/png": "[encoded data removed]",
      "text/plain": [
       "<Figure size 468x468 with 1 Axes>"
      ]
     },
     "metadata": {
      "needs_background": "light"
     },
     "output_type": "display_data"
    }
   ],
   "source": [
    "cmat=np.zeros((3,3))\n",
    "for i, gt in enumerate(Y_test):\n",
    "    classPred = np.where(predictions[i,:] == max(predictions[i,:]))\n",
    "    classgt=np.where(gt==max(gt))\n",
    "    cmat[classgt,classPred]=cmat[classgt,classPred]+1\n",
    "print(cmat)\n",
    "plot_confusion_matrix(cmat, labelRef.keys(),output='grouped_scenes.pdf')\n",
    "print(\"FIIIINESSSHED :-D\")"
   ]
  },
  {
   "cell_type": "code",
   "execution_count": 4,
   "metadata": {
    "scrolled": true
   },
   "outputs": [
    {
     "ename": "NameError",
     "evalue": "name 'predictions' is not defined",
     "output_type": "error",
     "traceback": [
      "\u001b[1;31m---------------------------------------------------------------------------\u001b[0m",
      "\u001b[1;31mNameError\u001b[0m                                 Traceback (most recent call last)",
      "\u001b[1;32m<ipython-input-4-8746d4971ea2>\u001b[0m in \u001b[0;36m<module>\u001b[1;34m\u001b[0m\n\u001b[0;32m      9\u001b[0m     \u001b[1;32mreturn\u001b[0m \u001b[0mhv\u001b[0m\u001b[1;33m\u001b[0m\u001b[0m\n\u001b[0;32m     10\u001b[0m \u001b[1;33m\u001b[0m\u001b[0m\n\u001b[1;32m---> 11\u001b[1;33m \u001b[0mprint\u001b[0m\u001b[1;33m(\u001b[0m\u001b[0mpredictions\u001b[0m\u001b[1;33m.\u001b[0m\u001b[0mshape\u001b[0m\u001b[1;33m)\u001b[0m\u001b[1;33m\u001b[0m\u001b[0m\n\u001b[0m\u001b[0;32m     12\u001b[0m \u001b[0mglobalthreshold\u001b[0m\u001b[1;33m=\u001b[0m\u001b[1;36m0.2\u001b[0m\u001b[1;33m\u001b[0m\u001b[0m\n\u001b[0;32m     13\u001b[0m \u001b[0mtest_scenes\u001b[0m\u001b[1;33m=\u001b[0m\u001b[0mhv\u001b[0m\u001b[1;33m(\u001b[0m\u001b[0mpredictions\u001b[0m\u001b[1;33m)\u001b[0m\u001b[1;33m\u001b[0m\u001b[0m\n",
      "\u001b[1;31mNameError\u001b[0m: name 'predictions' is not defined"
     ]
    }
   ],
   "source": [
    "def hv(preds):\n",
    "    scene=[]\n",
    "    s,r=preds.shape\n",
    "    hv=np.zeros((s,r))\n",
    "    for i in range(0,s):\n",
    "        for j in range(0,r):\n",
    "             if preds[i,j]>globalthreshold:\n",
    "                hv[i,j]=1\n",
    "    return hv\n",
    "\n",
    "print(predictions.shape)\n",
    "globalthreshold=0.2\n",
    "test_scenes=hv(predictions)\n",
    "print(test_scenes.shape)\n",
    "print(sum(test_scenes))\n",
    "\n",
    "def asc(scene,evaluate):\n",
    "    correct=0  \n",
    "    for idx,s in enumerate(scene):\n",
    "        match=False\n",
    "        if sum(s)>1:\n",
    "            print('WARNING:')\n",
    "            print(s)\n",
    "        for j,element in enumerate(s):\n",
    "            if element==Y_test[idx][j] and element==1:\n",
    "                match=True\n",
    "        if match:\n",
    "            correct=correct+1\n",
    "    \n",
    "    print('*** ASC:')\n",
    "    print('correct scenes: ' +str(correct)+ '\\n Accuracy:')\n",
    "    print(correct/len(Y_test)) \n",
    "    return correct/len(Y_test)\n",
    "\n",
    "acc=asc(test_scenes,'test')"
   ]
  },
  {
   "cell_type": "code",
   "execution_count": 9,
   "metadata": {},
   "outputs": [],
   "source": [
    "import itertools\n",
    "import matplotlib.pyplot as plt\n",
    "from sklearn.metrics import confusion_matrix\n",
    "from matplotlib.patches import Rectangle\n",
    "\n",
    "def plot_confusion_matrix(mat, classes,\n",
    "                          title='Confusion matrix',\n",
    "                          cmap=plt.cm.Blues,\n",
    "                          output = None):\n",
    "    \n",
    "    size = 3.5 + len(classes) * 0.5\n",
    "    plt.figure(figsize=(6.5, 6.5)) \n",
    "    plt.imshow(mat, interpolation='nearest', cmap=cmap)\n",
    "    #plt.title(title)\n",
    "   # plt.colorbar()\n",
    "    tick_marks = np.arange(len(classes))\n",
    "    plt.xticks(tick_marks, classes, rotation=45, horizontalalignment='right')\n",
    "    plt.yticks(tick_marks, classes)\n",
    "\n",
    "    fmt = '.0f' \n",
    "    thresh = mat.max() / 2.\n",
    "    for i, j in itertools.product(range(mat.shape[0]), range(mat.shape[1])):\n",
    "        plt.text(j, i, format(mat[i, j], fmt),\n",
    "                 horizontalalignment=\"center\", verticalalignment=\"center\",\n",
    "                 color=\"white\" if mat[i, j] > thresh else \"black\")\n",
    "\n",
    "    plt.tight_layout()\n",
    "    #plt.ylabel('True label')\n",
    "    #plt.xlabel('Predicted label')\n",
    "    \n",
    "    if output is not None:\n",
    "        plt.savefig(output, bbox_inches='tight')\n",
    "        \n",
    "#strip out non-supermarket events\n",
    "\n",
    "#scene_mat=np.random.randint(9, size=(6, 6)) #need actual class values for this!\n",
    "#classes=[labelRef.keys()]\n",
    "#plot_confusion_matrix(scene_mat, classes, title='', output='scenes.pdf')\n"
   ]
  },
  {
   "cell_type": "code",
   "execution_count": null,
   "metadata": {},
   "outputs": [],
   "source": []
  }
 ],
 "metadata": {
  "kernelspec": {
   "display_name": "Python 3",
   "language": "python",
   "name": "python3"
  },
  "language_info": {
   "codemirror_mode": {
    "name": "ipython",
    "version": 3
   },
   "file_extension": ".py",
   "mimetype": "text/x-python",
   "name": "python",
   "nbconvert_exporter": "python",
   "pygments_lexer": "ipython3",
   "version": "3.6.6"
  }
 },
 "nbformat": 4,
 "nbformat_minor": 2
}
